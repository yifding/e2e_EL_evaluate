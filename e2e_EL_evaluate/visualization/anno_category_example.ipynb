{
 "cells": [
  {
   "cell_type": "code",
   "execution_count": 1,
   "metadata": {},
   "outputs": [],
   "source": [
    "import re\n",
    "from spacy import displacy"
   ]
  },
  {
   "cell_type": "code",
   "execution_count": 2,
   "metadata": {},
   "outputs": [
    {
     "data": {
      "text/plain": [
       "[0, 5, 10, 15]"
      ]
     },
     "execution_count": 2,
     "metadata": {},
     "output_type": "execute_result"
    }
   ],
   "source": [
    "[m.start() for m in re.finditer('test', 'test test test test')]\n",
    "#[0, 5, 10, 15]"
   ]
  },
  {
   "cell_type": "code",
   "execution_count": 3,
   "metadata": {},
   "outputs": [],
   "source": [
    "txt = \"On February 23, 2019, Eminem released a re-issue of The Slim Shady LP. On June 25, 2019, \" \\\n",
    "      \"The New York Times Magazine listed Eminem among hundreds of artists whose material was \" \\\n",
    "      \"reportedly destroyed in the 2008 Universal Studios fire.\""
   ]
  },
  {
   "cell_type": "code",
   "execution_count": 4,
   "metadata": {},
   "outputs": [],
   "source": [
    "GT = [\n",
    "{'start': 22, 'end': 28, 'mention_txt': 'Eminem', 'entity_txt': 'Eminem'},\n",
    "{'start': 52,'end': 69,'mention_txt': 'The Slim Shady LP','entity_txt': 'The Slim Shady LP'},\n",
    "{'start': 89, 'end': 116, 'mention_txt': 'The New York Times Magazine', 'entity_txt': 'The New York Times Magazine'},\n",
    "{'start': 124, 'end': 130, 'mention_txt': 'Eminem', 'entity_txt': 'Eminem'},\n",
    "{'start': 149, 'end': 156, 'mention_txt': 'artists', 'entity_txt': 'Artist'},\n",
    "{'start': 204, 'end': 231, 'mention_txt': '2008 Universal Studios fire', 'entity_txt': '2008 Universal Studios fire'}\n",
    "]"
   ]
  },
  {
   "cell_type": "code",
   "execution_count": 5,
   "metadata": {},
   "outputs": [],
   "source": [
    "model = [\n",
    "{'start': 52,'end': 69,'mention_txt': 'The Slim Shady LP','entity_txt': 'The Slim Shady LP'},\n",
    "{'start': 93, 'end': 116, 'mention_txt': 'New York Times Magazine', 'entity_txt': 'The New York Times Magazine'},\n",
    "{'start': 149, 'end': 156, 'mention_txt': 'artists', 'entity_txt': 'Artist (film)'},\n",
    "{'start': 209, 'end': 226, 'mention_txt': 'Universal Studios', 'entity_txt': 'Universal Pictures'},\n",
    "]"
   ]
  },
  {
   "cell_type": "code",
   "execution_count": 6,
   "metadata": {},
   "outputs": [],
   "source": [
    "def process(anno, title=''):\n",
    "    ents = []\n",
    "    for anno_ele in anno:\n",
    "        start = anno_ele['start']\n",
    "        end = anno_ele['end']\n",
    "        mention = anno_ele['mention_txt']\n",
    "        entity = anno_ele['entity_txt']\n",
    "\n",
    "        assert txt[start:end] == mention\n",
    "        ent = {\n",
    "            'start': start,\n",
    "            'end': end,\n",
    "            'label': entity,\n",
    "        }\n",
    "        ents.append(ent)\n",
    "\n",
    "    instance = {\n",
    "        \"text\": txt,\n",
    "        \"ents\": ents,\n",
    "        'title': title,\n",
    "    }\n",
    "    print(repr(instance))\n",
    "    return instance"
   ]
  },
  {
   "cell_type": "code",
   "execution_count": 7,
   "metadata": {},
   "outputs": [
    {
     "name": "stdout",
     "output_type": "stream",
     "text": [
      "{'text': 'On February 23, 2019, Eminem released a re-issue of The Slim Shady LP. On June 25, 2019, The New York Times Magazine listed Eminem among hundreds of artists whose material was reportedly destroyed in the 2008 Universal Studios fire.', 'ents': [{'start': 52, 'end': 69, 'label': 'The Slim Shady LP'}, {'start': 93, 'end': 116, 'label': 'The New York Times Magazine'}, {'start': 149, 'end': 156, 'label': 'Artist (film)'}, {'start': 209, 'end': 226, 'label': 'Universal Pictures'}], 'title': ''}\n"
     ]
    },
    {
     "data": {
      "text/plain": [
       "{'text': 'On February 23, 2019, Eminem released a re-issue of The Slim Shady LP. On June 25, 2019, The New York Times Magazine listed Eminem among hundreds of artists whose material was reportedly destroyed in the 2008 Universal Studios fire.',\n",
       " 'ents': [{'start': 52, 'end': 69, 'label': 'The Slim Shady LP'},\n",
       "  {'start': 93, 'end': 116, 'label': 'The New York Times Magazine'},\n",
       "  {'start': 149, 'end': 156, 'label': 'Artist (film)'},\n",
       "  {'start': 209, 'end': 226, 'label': 'Universal Pictures'}],\n",
       " 'title': ''}"
      ]
     },
     "execution_count": 7,
     "metadata": {},
     "output_type": "execute_result"
    }
   ],
   "source": [
    "process(model)"
   ]
  },
  {
   "cell_type": "code",
   "execution_count": 8,
   "metadata": {},
   "outputs": [],
   "source": [
    "GT_pre = {'text': 'On February 23, 2019, Eminem released a re-issue of The Slim Shady LP. On June 25, 2019, The New York Times Magazine listed Eminem among hundreds of artists whose material was reportedly destroyed in the 2008 Universal Studios fire.',\n",
    " 'ents': [{'start': 22, 'end': 28, 'label': 'Eminem'},\n",
    "  {'start': 52, 'end': 69, 'label': 'The Slim Shady LP'},\n",
    "  {'start': 89, 'end': 116, 'label': 'The New York Times Magazine'},\n",
    "  {'start': 124, 'end': 130, 'label': 'Eminem'},\n",
    "  {'start': 149, 'end': 156, 'label': 'Artist'},\n",
    "  {'start': 204, 'end': 231, 'label': '2008 Universal Studios fire'}],\n",
    " 'title': ''}"
   ]
  },
  {
   "cell_type": "code",
   "execution_count": 9,
   "metadata": {},
   "outputs": [],
   "source": [
    "model_pre = {'text': 'On February 23, 2019, Eminem released a re-issue of The Slim Shady LP. On June 25, 2019, The New York Times Magazine listed Eminem among hundreds of artists whose material was reportedly destroyed in the 2008 Universal Studios fire.',\n",
    " 'ents': [{'start': 52, 'end': 69, 'label': 'The Slim Shady LP'},\n",
    "  {'start': 93, 'end': 116, 'label': 'The New York Times Magazine'},\n",
    "  {'start': 149, 'end': 156, 'label': 'Artist (film)'},\n",
    "  {'start': 209, 'end': 226, 'label': 'Universal Pictures'}],\n",
    " 'title': ''}"
   ]
  },
  {
   "cell_type": "code",
   "execution_count": 10,
   "metadata": {},
   "outputs": [],
   "source": [
    "colors = {\n",
    "    'Eminem': \"#ff8197\",\n",
    "    'The Slim Shady LP': \"#bfeeb7\",\n",
    "    'The New York Times Magazine': \"#e4e7d2\",\n",
    "    '2008 Universal Studios fire': \"#ff9561\",\n",
    "    'Universal Pictures': 'yellow',\n",
    "    'Artist': \"#bfe1d9\",\n",
    "    'Artist (film)':\"#ffeb80\", \n",
    "}\n",
    "options = {'colors': colors}"
   ]
  },
  {
   "cell_type": "code",
   "execution_count": 11,
   "metadata": {},
   "outputs": [
    {
     "data": {
      "text/html": [
       "<span class=\"tex2jax_ignore\"><div class=\"entities\" style=\"line-height: 2.5; direction: ltr\">On February 23, 2019, \n",
       "<mark class=\"entity\" style=\"background: #ff8197; padding: 0.45em 0.6em; margin: 0 0.25em; line-height: 1; border-radius: 0.35em;\">\n",
       "    Eminem\n",
       "    <span style=\"font-size: 0.8em; font-weight: bold; line-height: 1; border-radius: 0.35em; vertical-align: middle; margin-left: 0.5rem\">Eminem</span>\n",
       "</mark>\n",
       " released a re-issue of \n",
       "<mark class=\"entity\" style=\"background: #bfeeb7; padding: 0.45em 0.6em; margin: 0 0.25em; line-height: 1; border-radius: 0.35em;\">\n",
       "    The Slim Shady LP\n",
       "    <span style=\"font-size: 0.8em; font-weight: bold; line-height: 1; border-radius: 0.35em; vertical-align: middle; margin-left: 0.5rem\">The Slim Shady LP</span>\n",
       "</mark>\n",
       ". On June 25, 2019, \n",
       "<mark class=\"entity\" style=\"background: #e4e7d2; padding: 0.45em 0.6em; margin: 0 0.25em; line-height: 1; border-radius: 0.35em;\">\n",
       "    The New York Times Magazine\n",
       "    <span style=\"font-size: 0.8em; font-weight: bold; line-height: 1; border-radius: 0.35em; vertical-align: middle; margin-left: 0.5rem\">The New York Times Magazine</span>\n",
       "</mark>\n",
       " listed \n",
       "<mark class=\"entity\" style=\"background: #ff8197; padding: 0.45em 0.6em; margin: 0 0.25em; line-height: 1; border-radius: 0.35em;\">\n",
       "    Eminem\n",
       "    <span style=\"font-size: 0.8em; font-weight: bold; line-height: 1; border-radius: 0.35em; vertical-align: middle; margin-left: 0.5rem\">Eminem</span>\n",
       "</mark>\n",
       " among hundreds of \n",
       "<mark class=\"entity\" style=\"background: #bfe1d9; padding: 0.45em 0.6em; margin: 0 0.25em; line-height: 1; border-radius: 0.35em;\">\n",
       "    artists\n",
       "    <span style=\"font-size: 0.8em; font-weight: bold; line-height: 1; border-radius: 0.35em; vertical-align: middle; margin-left: 0.5rem\">Artist</span>\n",
       "</mark>\n",
       " whose material was reportedly destroyed in the \n",
       "<mark class=\"entity\" style=\"background: #ff9561; padding: 0.45em 0.6em; margin: 0 0.25em; line-height: 1; border-radius: 0.35em;\">\n",
       "    2008 Universal Studios fire\n",
       "    <span style=\"font-size: 0.8em; font-weight: bold; line-height: 1; border-radius: 0.35em; vertical-align: middle; margin-left: 0.5rem\">2008 Universal Studios fire</span>\n",
       "</mark>\n",
       ".</div></span>"
      ],
      "text/plain": [
       "<IPython.core.display.HTML object>"
      ]
     },
     "metadata": {},
     "output_type": "display_data"
    }
   ],
   "source": [
    "displacy.render(GT_pre, style='ent',manual=True, options=options)"
   ]
  },
  {
   "cell_type": "code",
   "execution_count": 12,
   "metadata": {},
   "outputs": [
    {
     "data": {
      "text/html": [
       "<span class=\"tex2jax_ignore\"><div class=\"entities\" style=\"line-height: 2.5; direction: ltr\">On February 23, 2019, Eminem released a re-issue of \n",
       "<mark class=\"entity\" style=\"background: #bfeeb7; padding: 0.45em 0.6em; margin: 0 0.25em; line-height: 1; border-radius: 0.35em;\">\n",
       "    The Slim Shady LP\n",
       "    <span style=\"font-size: 0.8em; font-weight: bold; line-height: 1; border-radius: 0.35em; vertical-align: middle; margin-left: 0.5rem\">The Slim Shady LP</span>\n",
       "</mark>\n",
       ". On June 25, 2019, The \n",
       "<mark class=\"entity\" style=\"background: #e4e7d2; padding: 0.45em 0.6em; margin: 0 0.25em; line-height: 1; border-radius: 0.35em;\">\n",
       "    New York Times Magazine\n",
       "    <span style=\"font-size: 0.8em; font-weight: bold; line-height: 1; border-radius: 0.35em; vertical-align: middle; margin-left: 0.5rem\">The New York Times Magazine</span>\n",
       "</mark>\n",
       " listed Eminem among hundreds of \n",
       "<mark class=\"entity\" style=\"background: #ffeb80; padding: 0.45em 0.6em; margin: 0 0.25em; line-height: 1; border-radius: 0.35em;\">\n",
       "    artists\n",
       "    <span style=\"font-size: 0.8em; font-weight: bold; line-height: 1; border-radius: 0.35em; vertical-align: middle; margin-left: 0.5rem\">Artist (film)</span>\n",
       "</mark>\n",
       " whose material was reportedly destroyed in the 2008 \n",
       "<mark class=\"entity\" style=\"background: yellow; padding: 0.45em 0.6em; margin: 0 0.25em; line-height: 1; border-radius: 0.35em;\">\n",
       "    Universal Studios\n",
       "    <span style=\"font-size: 0.8em; font-weight: bold; line-height: 1; border-radius: 0.35em; vertical-align: middle; margin-left: 0.5rem\">Universal Pictures</span>\n",
       "</mark>\n",
       " fire.</div></span>"
      ],
      "text/plain": [
       "<IPython.core.display.HTML object>"
      ]
     },
     "metadata": {},
     "output_type": "display_data"
    }
   ],
   "source": [
    "displacy.render(model_pre, style='ent',manual=True, options=options) "
   ]
  },
  {
   "cell_type": "code",
   "execution_count": null,
   "metadata": {},
   "outputs": [],
   "source": []
  }
 ],
 "metadata": {
  "kernelspec": {
   "display_name": "Python 3",
   "language": "python",
   "name": "python3"
  },
  "language_info": {
   "codemirror_mode": {
    "name": "ipython",
    "version": 3
   },
   "file_extension": ".py",
   "mimetype": "text/x-python",
   "name": "python",
   "nbconvert_exporter": "python",
   "pygments_lexer": "ipython3",
   "version": "3.8.5"
  }
 },
 "nbformat": 4,
 "nbformat_minor": 4
}
